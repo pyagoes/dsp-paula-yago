{
 "cells": [
  {
   "cell_type": "markdown",
   "id": "3749108f",
   "metadata": {},
   "source": [
    "# House-prices-modeling\n",
    "\n",
    "### 1. Data Setup"
   ]
  },
  {
   "cell_type": "code",
   "execution_count": 2,
   "id": "80d11a65",
   "metadata": {},
   "outputs": [],
   "source": [
    "import pandas as pd\n",
    "\n",
    "# Load datasets, I didn't have to split them because in kaggle they are already separeted.\n",
    "# dont use absoulte path, use relative one .../ !!!\n",
    "train = pd.read_csv('/Users/paulayagoesparza/Downloads/train.csv')\n",
    "test = pd.read_csv('/Users/paulayagoesparza/Downloads/test.csv')"
   ]
  },
  {
   "cell_type": "code",
   "execution_count": 3,
   "id": "aba88d50",
   "metadata": {},
   "outputs": [
    {
     "data": {
      "text/html": [
       "<div>\n",
       "<style scoped>\n",
       "    .dataframe tbody tr th:only-of-type {\n",
       "        vertical-align: middle;\n",
       "    }\n",
       "\n",
       "    .dataframe tbody tr th {\n",
       "        vertical-align: top;\n",
       "    }\n",
       "\n",
       "    .dataframe thead th {\n",
       "        text-align: right;\n",
       "    }\n",
       "</style>\n",
       "<table border=\"1\" class=\"dataframe\">\n",
       "  <thead>\n",
       "    <tr style=\"text-align: right;\">\n",
       "      <th></th>\n",
       "      <th>Id</th>\n",
       "      <th>MSSubClass</th>\n",
       "      <th>MSZoning</th>\n",
       "      <th>LotFrontage</th>\n",
       "      <th>LotArea</th>\n",
       "      <th>Street</th>\n",
       "      <th>Alley</th>\n",
       "      <th>LotShape</th>\n",
       "      <th>LandContour</th>\n",
       "      <th>Utilities</th>\n",
       "      <th>...</th>\n",
       "      <th>PoolArea</th>\n",
       "      <th>PoolQC</th>\n",
       "      <th>Fence</th>\n",
       "      <th>MiscFeature</th>\n",
       "      <th>MiscVal</th>\n",
       "      <th>MoSold</th>\n",
       "      <th>YrSold</th>\n",
       "      <th>SaleType</th>\n",
       "      <th>SaleCondition</th>\n",
       "      <th>SalePrice</th>\n",
       "    </tr>\n",
       "  </thead>\n",
       "  <tbody>\n",
       "    <tr>\n",
       "      <th>0</th>\n",
       "      <td>1</td>\n",
       "      <td>60</td>\n",
       "      <td>RL</td>\n",
       "      <td>65.0</td>\n",
       "      <td>8450</td>\n",
       "      <td>Pave</td>\n",
       "      <td>NaN</td>\n",
       "      <td>Reg</td>\n",
       "      <td>Lvl</td>\n",
       "      <td>AllPub</td>\n",
       "      <td>...</td>\n",
       "      <td>0</td>\n",
       "      <td>NaN</td>\n",
       "      <td>NaN</td>\n",
       "      <td>NaN</td>\n",
       "      <td>0</td>\n",
       "      <td>2</td>\n",
       "      <td>2008</td>\n",
       "      <td>WD</td>\n",
       "      <td>Normal</td>\n",
       "      <td>208500</td>\n",
       "    </tr>\n",
       "    <tr>\n",
       "      <th>1</th>\n",
       "      <td>2</td>\n",
       "      <td>20</td>\n",
       "      <td>RL</td>\n",
       "      <td>80.0</td>\n",
       "      <td>9600</td>\n",
       "      <td>Pave</td>\n",
       "      <td>NaN</td>\n",
       "      <td>Reg</td>\n",
       "      <td>Lvl</td>\n",
       "      <td>AllPub</td>\n",
       "      <td>...</td>\n",
       "      <td>0</td>\n",
       "      <td>NaN</td>\n",
       "      <td>NaN</td>\n",
       "      <td>NaN</td>\n",
       "      <td>0</td>\n",
       "      <td>5</td>\n",
       "      <td>2007</td>\n",
       "      <td>WD</td>\n",
       "      <td>Normal</td>\n",
       "      <td>181500</td>\n",
       "    </tr>\n",
       "    <tr>\n",
       "      <th>2</th>\n",
       "      <td>3</td>\n",
       "      <td>60</td>\n",
       "      <td>RL</td>\n",
       "      <td>68.0</td>\n",
       "      <td>11250</td>\n",
       "      <td>Pave</td>\n",
       "      <td>NaN</td>\n",
       "      <td>IR1</td>\n",
       "      <td>Lvl</td>\n",
       "      <td>AllPub</td>\n",
       "      <td>...</td>\n",
       "      <td>0</td>\n",
       "      <td>NaN</td>\n",
       "      <td>NaN</td>\n",
       "      <td>NaN</td>\n",
       "      <td>0</td>\n",
       "      <td>9</td>\n",
       "      <td>2008</td>\n",
       "      <td>WD</td>\n",
       "      <td>Normal</td>\n",
       "      <td>223500</td>\n",
       "    </tr>\n",
       "    <tr>\n",
       "      <th>3</th>\n",
       "      <td>4</td>\n",
       "      <td>70</td>\n",
       "      <td>RL</td>\n",
       "      <td>60.0</td>\n",
       "      <td>9550</td>\n",
       "      <td>Pave</td>\n",
       "      <td>NaN</td>\n",
       "      <td>IR1</td>\n",
       "      <td>Lvl</td>\n",
       "      <td>AllPub</td>\n",
       "      <td>...</td>\n",
       "      <td>0</td>\n",
       "      <td>NaN</td>\n",
       "      <td>NaN</td>\n",
       "      <td>NaN</td>\n",
       "      <td>0</td>\n",
       "      <td>2</td>\n",
       "      <td>2006</td>\n",
       "      <td>WD</td>\n",
       "      <td>Abnorml</td>\n",
       "      <td>140000</td>\n",
       "    </tr>\n",
       "    <tr>\n",
       "      <th>4</th>\n",
       "      <td>5</td>\n",
       "      <td>60</td>\n",
       "      <td>RL</td>\n",
       "      <td>84.0</td>\n",
       "      <td>14260</td>\n",
       "      <td>Pave</td>\n",
       "      <td>NaN</td>\n",
       "      <td>IR1</td>\n",
       "      <td>Lvl</td>\n",
       "      <td>AllPub</td>\n",
       "      <td>...</td>\n",
       "      <td>0</td>\n",
       "      <td>NaN</td>\n",
       "      <td>NaN</td>\n",
       "      <td>NaN</td>\n",
       "      <td>0</td>\n",
       "      <td>12</td>\n",
       "      <td>2008</td>\n",
       "      <td>WD</td>\n",
       "      <td>Normal</td>\n",
       "      <td>250000</td>\n",
       "    </tr>\n",
       "  </tbody>\n",
       "</table>\n",
       "<p>5 rows × 81 columns</p>\n",
       "</div>"
      ],
      "text/plain": [
       "   Id  MSSubClass MSZoning  LotFrontage  LotArea Street Alley LotShape  \\\n",
       "0   1          60       RL         65.0     8450   Pave   NaN      Reg   \n",
       "1   2          20       RL         80.0     9600   Pave   NaN      Reg   \n",
       "2   3          60       RL         68.0    11250   Pave   NaN      IR1   \n",
       "3   4          70       RL         60.0     9550   Pave   NaN      IR1   \n",
       "4   5          60       RL         84.0    14260   Pave   NaN      IR1   \n",
       "\n",
       "  LandContour Utilities  ... PoolArea PoolQC Fence MiscFeature MiscVal MoSold  \\\n",
       "0         Lvl    AllPub  ...        0    NaN   NaN         NaN       0      2   \n",
       "1         Lvl    AllPub  ...        0    NaN   NaN         NaN       0      5   \n",
       "2         Lvl    AllPub  ...        0    NaN   NaN         NaN       0      9   \n",
       "3         Lvl    AllPub  ...        0    NaN   NaN         NaN       0      2   \n",
       "4         Lvl    AllPub  ...        0    NaN   NaN         NaN       0     12   \n",
       "\n",
       "  YrSold  SaleType  SaleCondition  SalePrice  \n",
       "0   2008        WD         Normal     208500  \n",
       "1   2007        WD         Normal     181500  \n",
       "2   2008        WD         Normal     223500  \n",
       "3   2006        WD        Abnorml     140000  \n",
       "4   2008        WD         Normal     250000  \n",
       "\n",
       "[5 rows x 81 columns]"
      ]
     },
     "execution_count": 3,
     "metadata": {},
     "output_type": "execute_result"
    }
   ],
   "source": [
    "train.head()"
   ]
  },
  {
   "cell_type": "markdown",
   "id": "970146ce",
   "metadata": {},
   "source": [
    "### 2. Feature Selection\n",
    "\n",
    "Continuous Features:\n",
    "\n",
    "- LotFrontage: Linear feet of street connected to property\n",
    "- LotArea: Lot size in square feet\n",
    "\n",
    "Categorical Features:\n",
    "\n",
    "- Neighborhood: Physical locations within Ames city limits\n",
    "- BldgType: Type of dwelling\n",
    "- MSZoning: Identifies the general zoning classification of the sale."
   ]
  },
  {
   "cell_type": "code",
   "execution_count": 4,
   "id": "c7ddaf94",
   "metadata": {},
   "outputs": [
    {
     "data": {
      "text/plain": [
       "0       65.0\n",
       "1       80.0\n",
       "2       68.0\n",
       "3       60.0\n",
       "4       84.0\n",
       "        ... \n",
       "1455    62.0\n",
       "1456    85.0\n",
       "1457    66.0\n",
       "1458    68.0\n",
       "1459    75.0\n",
       "Name: LotFrontage, Length: 1460, dtype: float64"
      ]
     },
     "execution_count": 4,
     "metadata": {},
     "output_type": "execute_result"
    }
   ],
   "source": [
    "train['LotFrontage']"
   ]
  },
  {
   "cell_type": "code",
   "execution_count": 5,
   "id": "85f35491",
   "metadata": {},
   "outputs": [
    {
     "data": {
      "text/plain": [
       "0       CollgCr\n",
       "1       Veenker\n",
       "2       CollgCr\n",
       "3       Crawfor\n",
       "4       NoRidge\n",
       "         ...   \n",
       "1455    Gilbert\n",
       "1456     NWAmes\n",
       "1457    Crawfor\n",
       "1458      NAmes\n",
       "1459    Edwards\n",
       "Name: Neighborhood, Length: 1460, dtype: object"
      ]
     },
     "execution_count": 5,
     "metadata": {},
     "output_type": "execute_result"
    }
   ],
   "source": [
    "train['Neighborhood']"
   ]
  },
  {
   "cell_type": "markdown",
   "id": "a369685a",
   "metadata": {},
   "source": [
    "### 3. Feature processing"
   ]
  },
  {
   "cell_type": "code",
   "execution_count": 6,
   "id": "640203b9",
   "metadata": {},
   "outputs": [
    {
     "name": "stdout",
     "output_type": "stream",
     "text": [
      "Missing values in column LotFrontage in the rows:\n",
      "        Id  MSSubClass MSZoning  LotFrontage  LotArea Street Alley LotShape  \\\n",
      "7        8          60       RL          NaN    10382   Pave   NaN      IR1   \n",
      "12      13          20       RL          NaN    12968   Pave   NaN      IR2   \n",
      "14      15          20       RL          NaN    10920   Pave   NaN      IR1   \n",
      "16      17          20       RL          NaN    11241   Pave   NaN      IR1   \n",
      "24      25          20       RL          NaN     8246   Pave   NaN      IR1   \n",
      "...    ...         ...      ...          ...      ...    ...   ...      ...   \n",
      "1429  1430          20       RL          NaN    12546   Pave   NaN      IR1   \n",
      "1431  1432         120       RL          NaN     4928   Pave   NaN      IR1   \n",
      "1441  1442         120       RM          NaN     4426   Pave   NaN      Reg   \n",
      "1443  1444          30       RL          NaN     8854   Pave   NaN      Reg   \n",
      "1446  1447          20       RL          NaN    26142   Pave   NaN      IR1   \n",
      "\n",
      "     LandContour Utilities  ... PoolArea PoolQC  Fence MiscFeature MiscVal  \\\n",
      "7            Lvl    AllPub  ...        0    NaN    NaN        Shed     350   \n",
      "12           Lvl    AllPub  ...        0    NaN    NaN         NaN       0   \n",
      "14           Lvl    AllPub  ...        0    NaN   GdWo         NaN       0   \n",
      "16           Lvl    AllPub  ...        0    NaN    NaN        Shed     700   \n",
      "24           Lvl    AllPub  ...        0    NaN  MnPrv         NaN       0   \n",
      "...          ...       ...  ...      ...    ...    ...         ...     ...   \n",
      "1429         Lvl    AllPub  ...        0    NaN    NaN         NaN       0   \n",
      "1431         Lvl    AllPub  ...        0    NaN    NaN         NaN       0   \n",
      "1441         Lvl    AllPub  ...        0    NaN    NaN         NaN       0   \n",
      "1443         Lvl    AllPub  ...        0    NaN    NaN         NaN       0   \n",
      "1446         Lvl    AllPub  ...        0    NaN    NaN         NaN       0   \n",
      "\n",
      "     MoSold YrSold  SaleType  SaleCondition  SalePrice  \n",
      "7        11   2009        WD         Normal     200000  \n",
      "12        9   2008        WD         Normal     144000  \n",
      "14        5   2008        WD         Normal     157000  \n",
      "16        3   2010        WD         Normal     149000  \n",
      "24        5   2010        WD         Normal     154000  \n",
      "...     ...    ...       ...            ...        ...  \n",
      "1429      4   2007        WD         Normal     182900  \n",
      "1431     10   2009        WD         Normal     143750  \n",
      "1441      5   2008        WD         Normal     149300  \n",
      "1443      5   2009        WD         Normal     121000  \n",
      "1446      4   2010        WD         Normal     157900  \n",
      "\n",
      "[259 rows x 81 columns]\n",
      "No missing values in column LotArea\n",
      "No missing values in column Neighborhood\n",
      "No missing values in column BldgType\n",
      "No missing values in column MSZoning\n"
     ]
    }
   ],
   "source": [
    "#TRAIN DATASET\n",
    "# First check if there are missing values\n",
    "\n",
    "columns = ['LotFrontage', 'LotArea', 'Neighborhood', 'BldgType', 'MSZoning']\n",
    "for column in columns:\n",
    "    null_rows = train[train[column].isnull()]\n",
    "    if null_rows.empty:\n",
    "        print('No missing values in column', column)\n",
    "    else:\n",
    "        print('Missing values in column', column, 'in the rows:')\n",
    "        print(null_rows)"
   ]
  },
  {
   "cell_type": "markdown",
   "id": "0357bf75",
   "metadata": {},
   "source": [
    "So the column 'LotFrontage' has missing values, specifically 259 missing values (size of the matrix). I want to replace those values with the mean so i don't alter so much the distribution of the data. "
   ]
  },
  {
   "cell_type": "code",
   "execution_count": 7,
   "id": "5060fa37",
   "metadata": {},
   "outputs": [],
   "source": [
    "# calculating the mean\n",
    "mean_lotfrontage = train['LotFrontage'].mean()\n",
    "\n",
    "# replacing the missing values with the mean\n",
    "train['LotFrontage'].fillna(mean_lotfrontage, inplace=True)"
   ]
  },
  {
   "cell_type": "code",
   "execution_count": 8,
   "id": "7fcd80ed",
   "metadata": {},
   "outputs": [
    {
     "name": "stdout",
     "output_type": "stream",
     "text": [
      "No missing values in column LotFrontage\n"
     ]
    }
   ],
   "source": [
    "# let's do it again to check that it was done correctly\n",
    "columns = ['LotFrontage']\n",
    "for column in columns:\n",
    "    null_rows = train[train[column].isnull()]\n",
    "    if null_rows.empty:\n",
    "        print('No missing values in column', column)\n",
    "    else:\n",
    "        print('Missing values in column', column, 'in the rows:')\n",
    "        print(null_rows)"
   ]
  },
  {
   "cell_type": "code",
   "execution_count": 9,
   "id": "de26dec4",
   "metadata": {},
   "outputs": [
    {
     "name": "stdout",
     "output_type": "stream",
     "text": [
      "Missing values in column LotFrontage in the rows:\n",
      "        Id  MSSubClass MSZoning  LotFrontage  LotArea Street Alley LotShape  \\\n",
      "6     1467          20       RL          NaN     7980   Pave   NaN      IR1   \n",
      "40    1501         160       FV          NaN     2980   Pave   NaN      Reg   \n",
      "41    1502         160       FV          NaN     2403   Pave   NaN      IR1   \n",
      "45    1506          20       RL          NaN    10456   Pave   NaN      IR1   \n",
      "47    1508          50       RL          NaN    18837   Pave   NaN      IR1   \n",
      "...    ...         ...      ...          ...      ...    ...   ...      ...   \n",
      "1387  2848          20       RL          NaN    11088   Pave   NaN      Reg   \n",
      "1390  2851          60       RL          NaN    21533   Pave   NaN      IR2   \n",
      "1440  2901          20       RL          NaN    50102   Pave   NaN      IR1   \n",
      "1441  2902          20       RL          NaN     8098   Pave   NaN      IR1   \n",
      "1448  2909          90       RL          NaN    11836   Pave   NaN      IR1   \n",
      "\n",
      "     LandContour Utilities  ... ScreenPorch PoolArea PoolQC  Fence  \\\n",
      "6            Lvl    AllPub  ...           0        0    NaN  GdPrv   \n",
      "40           Lvl    AllPub  ...           0        0    NaN    NaN   \n",
      "41           Lvl    AllPub  ...           0        0    NaN    NaN   \n",
      "45           Lvl    AllPub  ...           0        0    NaN    NaN   \n",
      "47           Lvl    AllPub  ...           0        0    NaN    NaN   \n",
      "...          ...       ...  ...         ...      ...    ...    ...   \n",
      "1387         Lvl    AllPub  ...           0        0    NaN    NaN   \n",
      "1390         Lvl    AllPub  ...           0        0    NaN    NaN   \n",
      "1440         Low    AllPub  ...         138        0    NaN    NaN   \n",
      "1441         Lvl    AllPub  ...           0        0    NaN    NaN   \n",
      "1448         Lvl    AllPub  ...           0        0    NaN    NaN   \n",
      "\n",
      "     MiscFeature MiscVal MoSold  YrSold  SaleType  SaleCondition  \n",
      "6           Shed     500      3    2010        WD         Normal  \n",
      "40           NaN       0      5    2010        WD         Normal  \n",
      "41           NaN       0      6    2010        WD         Normal  \n",
      "45           NaN       0      5    2010        WD         Normal  \n",
      "47           NaN       0      4    2010        WD         Normal  \n",
      "...          ...     ...    ...     ...       ...            ...  \n",
      "1387         NaN       0      6    2006        WD         Normal  \n",
      "1390         NaN       0      8    2006        WD         Normal  \n",
      "1440         NaN       0      3    2006        WD         Alloca  \n",
      "1441         NaN       0     10    2006        WD         Normal  \n",
      "1448         NaN       0      3    2006        WD         Normal  \n",
      "\n",
      "[227 rows x 80 columns]\n",
      "No missing values in column LotArea\n",
      "No missing values in column Neighborhood\n",
      "No missing values in column BldgType\n",
      "Missing values in column MSZoning in the rows:\n",
      "        Id  MSSubClass MSZoning  LotFrontage  LotArea Street Alley LotShape  \\\n",
      "455   1916          30      NaN        109.0    21780   Grvl   NaN      Reg   \n",
      "756   2217          20      NaN         80.0    14584   Pave   NaN      Reg   \n",
      "790   2251          70      NaN          NaN    56600   Pave   NaN      IR1   \n",
      "1444  2905          20      NaN        125.0    31250   Pave   NaN      Reg   \n",
      "\n",
      "     LandContour Utilities  ... ScreenPorch PoolArea PoolQC Fence MiscFeature  \\\n",
      "455          Lvl       NaN  ...           0        0    NaN   NaN         NaN   \n",
      "756          Low    AllPub  ...           0        0    NaN   NaN         NaN   \n",
      "790          Low    AllPub  ...           0        0    NaN   NaN         NaN   \n",
      "1444         Lvl    AllPub  ...           0        0    NaN   NaN         NaN   \n",
      "\n",
      "     MiscVal MoSold  YrSold  SaleType  SaleCondition  \n",
      "455        0      3    2009     ConLD         Normal  \n",
      "756        0      2    2008        WD        Abnorml  \n",
      "790        0      1    2008        WD         Normal  \n",
      "1444       0      5    2006        WD         Normal  \n",
      "\n",
      "[4 rows x 80 columns]\n"
     ]
    }
   ],
   "source": [
    "# TEST DATASET\n",
    "# First check if there are missing values\n",
    "\n",
    "columns = ['LotFrontage', 'LotArea', 'Neighborhood', 'BldgType', 'MSZoning']\n",
    "for column in columns:\n",
    "    null_rows = test[test[column].isnull()]\n",
    "    if null_rows.empty:\n",
    "        print('No missing values in column', column)\n",
    "    else:\n",
    "        print('Missing values in column', column, 'in the rows:')\n",
    "        print(null_rows)"
   ]
  },
  {
   "cell_type": "markdown",
   "id": "249174b5",
   "metadata": {},
   "source": [
    "i will follow the same procedure as with the train dataset. In this case two features have missing values, one categorical and another one continuous.\n",
    "so i will replace the missing values of the numerical variable by the mean and of the categorical variable by the mode"
   ]
  },
  {
   "cell_type": "code",
   "execution_count": 10,
   "id": "26ff192a",
   "metadata": {},
   "outputs": [],
   "source": [
    "# TEST DATASET\n",
    "\n",
    "# calculating the mean. continious variable\n",
    "mean_lotfrontage_test = test['LotFrontage'].mean()\n",
    "\n",
    "# replacing the missing values with the mean\n",
    "test['LotFrontage'].fillna(mean_lotfrontage_test, inplace=True)\n",
    "\n",
    "# calculating the meode, categorical variable\n",
    "mean_lotfrontage_test = test['MSZoning'].mode()\n",
    "test['MSZoning'].fillna(mean_lotfrontage_test, inplace=True)"
   ]
  },
  {
   "cell_type": "markdown",
   "id": "2ee72d21",
   "metadata": {},
   "source": [
    "### Scaling\n",
    "I don't understand this concept fully and the methods there are to achieve it. \n",
    "As well i don't know which one is the most suitable for my features.\n",
    "\n",
    "### Encoding\n",
    "Encoding features refers to the process of converting categorical or textual data into numerical representations that can be used as input for machine learning models"
   ]
  },
  {
   "cell_type": "code",
   "execution_count": 11,
   "id": "de026987",
   "metadata": {},
   "outputs": [],
   "source": [
    "from sklearn.preprocessing import LabelEncoder\n",
    "#TRAIN DATASET\n",
    "# i chose to use LabelEncoder for all categorial features.\n",
    "le = LabelEncoder()\n",
    "\n",
    "train['Neighborhood'] = le.fit_transform(train['Neighborhood'])\n",
    "train['BldgType'] = le.fit_transform(train['BldgType'])\n",
    "train['MSZoning'] = le.fit_transform(train['MSZoning'])"
   ]
  },
  {
   "cell_type": "code",
   "execution_count": 15,
   "id": "a0e6167b",
   "metadata": {},
   "outputs": [
    {
     "data": {
      "text/plain": [
       "0       3\n",
       "1       3\n",
       "2       3\n",
       "3       3\n",
       "4       3\n",
       "       ..\n",
       "1455    3\n",
       "1456    3\n",
       "1457    3\n",
       "1458    3\n",
       "1459    3\n",
       "Name: MSZoning, Length: 1460, dtype: int64"
      ]
     },
     "execution_count": 15,
     "metadata": {},
     "output_type": "execute_result"
    }
   ],
   "source": [
    "# how the column looks like now\n",
    "train['MSZoning']"
   ]
  },
  {
   "cell_type": "code",
   "execution_count": 13,
   "id": "9bb0c269",
   "metadata": {},
   "outputs": [],
   "source": [
    "#TEST DATASET\n",
    "# i chose to use LabelEncoder for all categorial features.\n",
    "le = LabelEncoder()\n",
    "\n",
    "test['Neighborhood'] = le.fit_transform(test['Neighborhood'])\n",
    "test['BldgType'] = le.fit_transform(test['BldgType'])\n",
    "test['MSZoning'] = le.fit_transform(test['MSZoning'])\n"
   ]
  },
  {
   "cell_type": "markdown",
   "id": "51257bb1",
   "metadata": {},
   "source": [
    "### one hot encoding \n",
    "get_dummies : encoding technique binary"
   ]
  },
  {
   "cell_type": "markdown",
   "id": "0e8c4d00",
   "metadata": {},
   "source": [
    "### 4. Model training\n",
    "Using Linear Regression"
   ]
  },
  {
   "cell_type": "code",
   "execution_count": 13,
   "id": "eaccb7a3",
   "metadata": {},
   "outputs": [
    {
     "data": {
      "text/html": [
       "<style>#sk-container-id-1 {color: black;background-color: white;}#sk-container-id-1 pre{padding: 0;}#sk-container-id-1 div.sk-toggleable {background-color: white;}#sk-container-id-1 label.sk-toggleable__label {cursor: pointer;display: block;width: 100%;margin-bottom: 0;padding: 0.3em;box-sizing: border-box;text-align: center;}#sk-container-id-1 label.sk-toggleable__label-arrow:before {content: \"▸\";float: left;margin-right: 0.25em;color: #696969;}#sk-container-id-1 label.sk-toggleable__label-arrow:hover:before {color: black;}#sk-container-id-1 div.sk-estimator:hover label.sk-toggleable__label-arrow:before {color: black;}#sk-container-id-1 div.sk-toggleable__content {max-height: 0;max-width: 0;overflow: hidden;text-align: left;background-color: #f0f8ff;}#sk-container-id-1 div.sk-toggleable__content pre {margin: 0.2em;color: black;border-radius: 0.25em;background-color: #f0f8ff;}#sk-container-id-1 input.sk-toggleable__control:checked~div.sk-toggleable__content {max-height: 200px;max-width: 100%;overflow: auto;}#sk-container-id-1 input.sk-toggleable__control:checked~label.sk-toggleable__label-arrow:before {content: \"▾\";}#sk-container-id-1 div.sk-estimator input.sk-toggleable__control:checked~label.sk-toggleable__label {background-color: #d4ebff;}#sk-container-id-1 div.sk-label input.sk-toggleable__control:checked~label.sk-toggleable__label {background-color: #d4ebff;}#sk-container-id-1 input.sk-hidden--visually {border: 0;clip: rect(1px 1px 1px 1px);clip: rect(1px, 1px, 1px, 1px);height: 1px;margin: -1px;overflow: hidden;padding: 0;position: absolute;width: 1px;}#sk-container-id-1 div.sk-estimator {font-family: monospace;background-color: #f0f8ff;border: 1px dotted black;border-radius: 0.25em;box-sizing: border-box;margin-bottom: 0.5em;}#sk-container-id-1 div.sk-estimator:hover {background-color: #d4ebff;}#sk-container-id-1 div.sk-parallel-item::after {content: \"\";width: 100%;border-bottom: 1px solid gray;flex-grow: 1;}#sk-container-id-1 div.sk-label:hover label.sk-toggleable__label {background-color: #d4ebff;}#sk-container-id-1 div.sk-serial::before {content: \"\";position: absolute;border-left: 1px solid gray;box-sizing: border-box;top: 0;bottom: 0;left: 50%;z-index: 0;}#sk-container-id-1 div.sk-serial {display: flex;flex-direction: column;align-items: center;background-color: white;padding-right: 0.2em;padding-left: 0.2em;position: relative;}#sk-container-id-1 div.sk-item {position: relative;z-index: 1;}#sk-container-id-1 div.sk-parallel {display: flex;align-items: stretch;justify-content: center;background-color: white;position: relative;}#sk-container-id-1 div.sk-item::before, #sk-container-id-1 div.sk-parallel-item::before {content: \"\";position: absolute;border-left: 1px solid gray;box-sizing: border-box;top: 0;bottom: 0;left: 50%;z-index: -1;}#sk-container-id-1 div.sk-parallel-item {display: flex;flex-direction: column;z-index: 1;position: relative;background-color: white;}#sk-container-id-1 div.sk-parallel-item:first-child::after {align-self: flex-end;width: 50%;}#sk-container-id-1 div.sk-parallel-item:last-child::after {align-self: flex-start;width: 50%;}#sk-container-id-1 div.sk-parallel-item:only-child::after {width: 0;}#sk-container-id-1 div.sk-dashed-wrapped {border: 1px dashed gray;margin: 0 0.4em 0.5em 0.4em;box-sizing: border-box;padding-bottom: 0.4em;background-color: white;}#sk-container-id-1 div.sk-label label {font-family: monospace;font-weight: bold;display: inline-block;line-height: 1.2em;}#sk-container-id-1 div.sk-label-container {text-align: center;}#sk-container-id-1 div.sk-container {/* jupyter's `normalize.less` sets `[hidden] { display: none; }` but bootstrap.min.css set `[hidden] { display: none !important; }` so we also need the `!important` here to be able to override the default hidden behavior on the sphinx rendered scikit-learn.org. See: https://github.com/scikit-learn/scikit-learn/issues/21755 */display: inline-block !important;position: relative;}#sk-container-id-1 div.sk-text-repr-fallback {display: none;}</style><div id=\"sk-container-id-1\" class=\"sk-top-container\"><div class=\"sk-text-repr-fallback\"><pre>LinearRegression()</pre><b>In a Jupyter environment, please rerun this cell to show the HTML representation or trust the notebook. <br />On GitHub, the HTML representation is unable to render, please try loading this page with nbviewer.org.</b></div><div class=\"sk-container\" hidden><div class=\"sk-item\"><div class=\"sk-estimator sk-toggleable\"><input class=\"sk-toggleable__control sk-hidden--visually\" id=\"sk-estimator-id-1\" type=\"checkbox\" checked><label for=\"sk-estimator-id-1\" class=\"sk-toggleable__label sk-toggleable__label-arrow\">LinearRegression</label><div class=\"sk-toggleable__content\"><pre>LinearRegression()</pre></div></div></div></div></div>"
      ],
      "text/plain": [
       "LinearRegression()"
      ]
     },
     "execution_count": 13,
     "metadata": {},
     "output_type": "execute_result"
    }
   ],
   "source": [
    "from sklearn.linear_model import LinearRegression\n",
    "\n",
    "# feature selection\n",
    "X_train = train[['LotFrontage', 'LotArea', 'Neighborhood', 'BldgType', 'MSZoning']]\n",
    "y_train = train['SalePrice']\n",
    "\n",
    "model = LinearRegression()\n",
    "\n",
    "# fit the model \n",
    "model.fit(X_train, y_train)"
   ]
  },
  {
   "cell_type": "markdown",
   "id": "ad76f23e",
   "metadata": {},
   "source": [
    "I want to test the algorithm, but to do that I have to encode as well the categorical varibales.\n",
    "I have an error, because in this features there are values that were not on the train dataset, so when the econder tries to assign a numerical value (to substitue the string) it is not able because is does not match with the previous values from the train dataset."
   ]
  },
  {
   "cell_type": "code",
   "execution_count": 14,
   "id": "2a4cc8b8",
   "metadata": {},
   "outputs": [],
   "source": [
    "# let's test the algorithm\n",
    "\n",
    "X_test = test[['LotFrontage', 'LotArea', 'Neighborhood', 'BldgType', 'MSZoning']]\n",
    "#y_test = test['SalePrice']\n",
    "\n",
    "y_pred = model.predict(X_test)"
   ]
  },
  {
   "cell_type": "code",
   "execution_count": 15,
   "id": "166bedd9",
   "metadata": {},
   "outputs": [],
   "source": [
    "import numpy as np\n",
    "from sklearn.metrics import mean_squared_log_error\n",
    "\n",
    "def compute_rmsle(y_test: np.ndarray, y_pred: np.ndarray, precision: int = 2) -> float:\n",
    "    rmsle = np.sqrt(mean_squared_log_error(y_test, y_pred))\n",
    "    return round(rmsle, precision)"
   ]
  },
  {
   "cell_type": "markdown",
   "id": "c6e8fc83",
   "metadata": {},
   "source": [
    "But I should compare the 'SalePrice' predicted by my model with the correct 'SalePrice' of the test dataset. There is no column 'SalePrice' in the test dataset so I'm not able to compare them. And that's why my RMSLE is 0, there is no difference between the predicted values because they are in fact the same."
   ]
  },
  {
   "cell_type": "code",
   "execution_count": 16,
   "id": "853b6e2f",
   "metadata": {},
   "outputs": [
    {
     "name": "stdout",
     "output_type": "stream",
     "text": [
      "RMSLE: 0.0\n"
     ]
    }
   ],
   "source": [
    "rmsle = compute_rmsle(y_pred, y_pred)\n",
    "print(\"RMSLE:\", rmsle)"
   ]
  }
 ],
 "metadata": {
  "kernelspec": {
   "display_name": "Python 3 (ipykernel)",
   "language": "python",
   "name": "python3"
  },
  "language_info": {
   "codemirror_mode": {
    "name": "ipython",
    "version": 3
   },
   "file_extension": ".py",
   "mimetype": "text/x-python",
   "name": "python",
   "nbconvert_exporter": "python",
   "pygments_lexer": "ipython3",
   "version": "3.10.9"
  }
 },
 "nbformat": 4,
 "nbformat_minor": 5
}
