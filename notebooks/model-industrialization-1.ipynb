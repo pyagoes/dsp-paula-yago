{
 "cells": [
  {
   "cell_type": "markdown",
   "id": "3749108f",
   "metadata": {},
   "source": [
    "<center><h1 style=\"color:#CC0099\">House-prices-modeling</h1></center>"
   ]
  },
  {
   "cell_type": "code",
   "execution_count": 1,
   "id": "a2a7359f",
   "metadata": {},
   "outputs": [],
   "source": [
    "import pandas as pd\n",
    "from sklearn.model_selection import train_test_split\n",
    "import numpy as np\n",
    "import sys\n",
    "from sklearn.preprocessing import OneHotEncoder\n",
    "from sklearn.preprocessing import StandardScaler\n",
    "from sklearn.linear_model import LinearRegression\n",
    "from sklearn.metrics import mean_squared_log_error"
   ]
  },
  {
   "cell_type": "markdown",
   "id": "3ad45e4d",
   "metadata": {},
   "source": [
    "<h1>Model Building: <span style=\"color:#6666CC\">Model Training</span></h1>\n",
    "\n",
    "### 1. Dataset loading and splitting into train and test"
   ]
  },
  {
   "cell_type": "code",
   "execution_count": 2,
   "id": "855319c4",
   "metadata": {},
   "outputs": [
    {
     "name": "stdout",
     "output_type": "stream",
     "text": [
      "test.csv  train.csv\r\n"
     ]
    }
   ],
   "source": [
    "!ls ../data"
   ]
  },
  {
   "cell_type": "code",
   "execution_count": 3,
   "id": "80d11a65",
   "metadata": {},
   "outputs": [],
   "source": [
    "# dont use absoulte path, use relative one .../ !!!\n",
    "df_master = pd.read_csv('../data/train.csv')\n",
    "df = df_master.copy()\n",
    "label_col = 'SalePrice'"
   ]
  },
  {
   "cell_type": "code",
   "execution_count": 4,
   "id": "7a5d71fa",
   "metadata": {},
   "outputs": [],
   "source": [
    "train_df, test_df = train_test_split(df, test_size=0.33, random_state=42)"
   ]
  },
  {
   "cell_type": "markdown",
   "id": "744f0b0b",
   "metadata": {},
   "source": [
    "### 2. Preprocessing and feature engineering of the train set"
   ]
  },
  {
   "cell_type": "code",
   "execution_count": 5,
   "id": "aba88d50",
   "metadata": {},
   "outputs": [],
   "source": [
    "#df_master.info()"
   ]
  },
  {
   "cell_type": "code",
   "execution_count": 6,
   "id": "170a5de7",
   "metadata": {},
   "outputs": [
    {
     "data": {
      "text/html": [
       "<div>\n",
       "<style scoped>\n",
       "    .dataframe tbody tr th:only-of-type {\n",
       "        vertical-align: middle;\n",
       "    }\n",
       "\n",
       "    .dataframe tbody tr th {\n",
       "        vertical-align: top;\n",
       "    }\n",
       "\n",
       "    .dataframe thead th {\n",
       "        text-align: right;\n",
       "    }\n",
       "</style>\n",
       "<table border=\"1\" class=\"dataframe\">\n",
       "  <thead>\n",
       "    <tr style=\"text-align: right;\">\n",
       "      <th></th>\n",
       "      <th>Foundation</th>\n",
       "      <th>KitchenQual</th>\n",
       "      <th>TotRmsAbvGrd</th>\n",
       "      <th>WoodDeckSF</th>\n",
       "      <th>YrSold</th>\n",
       "      <th>1stFlrSF</th>\n",
       "      <th>SalePrice</th>\n",
       "    </tr>\n",
       "  </thead>\n",
       "  <tbody>\n",
       "    <tr>\n",
       "      <th>0</th>\n",
       "      <td>PConc</td>\n",
       "      <td>Gd</td>\n",
       "      <td>8</td>\n",
       "      <td>0</td>\n",
       "      <td>2008</td>\n",
       "      <td>856</td>\n",
       "      <td>208500</td>\n",
       "    </tr>\n",
       "    <tr>\n",
       "      <th>1</th>\n",
       "      <td>CBlock</td>\n",
       "      <td>TA</td>\n",
       "      <td>6</td>\n",
       "      <td>298</td>\n",
       "      <td>2007</td>\n",
       "      <td>1262</td>\n",
       "      <td>181500</td>\n",
       "    </tr>\n",
       "    <tr>\n",
       "      <th>2</th>\n",
       "      <td>PConc</td>\n",
       "      <td>Gd</td>\n",
       "      <td>6</td>\n",
       "      <td>0</td>\n",
       "      <td>2008</td>\n",
       "      <td>920</td>\n",
       "      <td>223500</td>\n",
       "    </tr>\n",
       "    <tr>\n",
       "      <th>3</th>\n",
       "      <td>BrkTil</td>\n",
       "      <td>Gd</td>\n",
       "      <td>7</td>\n",
       "      <td>0</td>\n",
       "      <td>2006</td>\n",
       "      <td>961</td>\n",
       "      <td>140000</td>\n",
       "    </tr>\n",
       "    <tr>\n",
       "      <th>4</th>\n",
       "      <td>PConc</td>\n",
       "      <td>Gd</td>\n",
       "      <td>9</td>\n",
       "      <td>192</td>\n",
       "      <td>2008</td>\n",
       "      <td>1145</td>\n",
       "      <td>250000</td>\n",
       "    </tr>\n",
       "  </tbody>\n",
       "</table>\n",
       "</div>"
      ],
      "text/plain": [
       "  Foundation KitchenQual  TotRmsAbvGrd  WoodDeckSF  YrSold  1stFlrSF  \\\n",
       "0      PConc          Gd             8           0    2008       856   \n",
       "1     CBlock          TA             6         298    2007      1262   \n",
       "2      PConc          Gd             6           0    2008       920   \n",
       "3     BrkTil          Gd             7           0    2006       961   \n",
       "4      PConc          Gd             9         192    2008      1145   \n",
       "\n",
       "   SalePrice  \n",
       "0     208500  \n",
       "1     181500  \n",
       "2     223500  \n",
       "3     140000  \n",
       "4     250000  "
      ]
     },
     "execution_count": 6,
     "metadata": {},
     "output_type": "execute_result"
    }
   ],
   "source": [
    "# Keeping only useful features\n",
    "useful_features = ['Foundation', 'KitchenQual', 'TotRmsAbvGrd', 'WoodDeckSF', 'YrSold', '1stFlrSF']\n",
    "df = df[useful_features + [label_col]]\n",
    "df.head()"
   ]
  },
  {
   "cell_type": "markdown",
   "id": "4748f4f8",
   "metadata": {},
   "source": [
    "- Continuous Features: TotRmsAbvGr, WoodDeckSF, YrSold, 1stFlrSF, SalePrice\n",
    "\n",
    "- Categorical Features: Foundation, KitchenQual"
   ]
  },
  {
   "cell_type": "code",
   "execution_count": 7,
   "id": "d70cff89",
   "metadata": {},
   "outputs": [
    {
     "name": "stdout",
     "output_type": "stream",
     "text": [
      "/Users/paulayagoesparza/anaconda3/envs/ml/bin/python\n"
     ]
    }
   ],
   "source": [
    "print(sys.executable)"
   ]
  },
  {
   "cell_type": "markdown",
   "id": "a369685a",
   "metadata": {},
   "source": [
    "- Feature processing"
   ]
  },
  {
   "cell_type": "code",
   "execution_count": 8,
   "id": "e6e8f324",
   "metadata": {},
   "outputs": [
    {
     "name": "stdout",
     "output_type": "stream",
     "text": [
      "<class 'pandas.core.frame.DataFrame'>\n",
      "RangeIndex: 1460 entries, 0 to 1459\n",
      "Data columns (total 7 columns):\n",
      " #   Column        Non-Null Count  Dtype \n",
      "---  ------        --------------  ----- \n",
      " 0   Foundation    1460 non-null   object\n",
      " 1   KitchenQual   1460 non-null   object\n",
      " 2   TotRmsAbvGrd  1460 non-null   int64 \n",
      " 3   WoodDeckSF    1460 non-null   int64 \n",
      " 4   YrSold        1460 non-null   int64 \n",
      " 5   1stFlrSF      1460 non-null   int64 \n",
      " 6   SalePrice     1460 non-null   int64 \n",
      "dtypes: int64(5), object(2)\n",
      "memory usage: 80.0+ KB\n"
     ]
    }
   ],
   "source": [
    "df.info()"
   ]
  },
  {
   "cell_type": "code",
   "execution_count": 9,
   "id": "059c43f3",
   "metadata": {},
   "outputs": [],
   "source": [
    "# Check for duplicates \n",
    "#help(train_df[useful_features].duplicated)"
   ]
  },
  {
   "cell_type": "code",
   "execution_count": 10,
   "id": "440d4b60",
   "metadata": {},
   "outputs": [
    {
     "data": {
      "text/plain": [
       "15"
      ]
     },
     "execution_count": 10,
     "metadata": {},
     "output_type": "execute_result"
    }
   ],
   "source": [
    "train_df[useful_features].duplicated(keep='first').sum()"
   ]
  },
  {
   "cell_type": "code",
   "execution_count": 11,
   "id": "cc28bd62",
   "metadata": {},
   "outputs": [
    {
     "data": {
      "text/html": [
       "<div>\n",
       "<style scoped>\n",
       "    .dataframe tbody tr th:only-of-type {\n",
       "        vertical-align: middle;\n",
       "    }\n",
       "\n",
       "    .dataframe tbody tr th {\n",
       "        vertical-align: top;\n",
       "    }\n",
       "\n",
       "    .dataframe thead th {\n",
       "        text-align: right;\n",
       "    }\n",
       "</style>\n",
       "<table border=\"1\" class=\"dataframe\">\n",
       "  <thead>\n",
       "    <tr style=\"text-align: right;\">\n",
       "      <th></th>\n",
       "      <th>Id</th>\n",
       "      <th>MSSubClass</th>\n",
       "      <th>MSZoning</th>\n",
       "      <th>LotFrontage</th>\n",
       "      <th>LotArea</th>\n",
       "      <th>Street</th>\n",
       "      <th>Alley</th>\n",
       "      <th>LotShape</th>\n",
       "      <th>LandContour</th>\n",
       "      <th>Utilities</th>\n",
       "      <th>...</th>\n",
       "      <th>PoolArea</th>\n",
       "      <th>PoolQC</th>\n",
       "      <th>Fence</th>\n",
       "      <th>MiscFeature</th>\n",
       "      <th>MiscVal</th>\n",
       "      <th>MoSold</th>\n",
       "      <th>YrSold</th>\n",
       "      <th>SaleType</th>\n",
       "      <th>SaleCondition</th>\n",
       "      <th>SalePrice</th>\n",
       "    </tr>\n",
       "  </thead>\n",
       "  <tbody>\n",
       "    <tr>\n",
       "      <th>973</th>\n",
       "      <td>1096</td>\n",
       "      <td>20</td>\n",
       "      <td>RL</td>\n",
       "      <td>78.0</td>\n",
       "      <td>9317</td>\n",
       "      <td>Pave</td>\n",
       "      <td>NaN</td>\n",
       "      <td>IR1</td>\n",
       "      <td>Lvl</td>\n",
       "      <td>AllPub</td>\n",
       "      <td>...</td>\n",
       "      <td>0</td>\n",
       "      <td>NaN</td>\n",
       "      <td>NaN</td>\n",
       "      <td>NaN</td>\n",
       "      <td>0</td>\n",
       "      <td>3</td>\n",
       "      <td>2007</td>\n",
       "      <td>WD</td>\n",
       "      <td>Normal</td>\n",
       "      <td>176432</td>\n",
       "    </tr>\n",
       "    <tr>\n",
       "      <th>974</th>\n",
       "      <td>1131</td>\n",
       "      <td>50</td>\n",
       "      <td>RL</td>\n",
       "      <td>65.0</td>\n",
       "      <td>7804</td>\n",
       "      <td>Pave</td>\n",
       "      <td>NaN</td>\n",
       "      <td>Reg</td>\n",
       "      <td>Lvl</td>\n",
       "      <td>AllPub</td>\n",
       "      <td>...</td>\n",
       "      <td>0</td>\n",
       "      <td>NaN</td>\n",
       "      <td>MnPrv</td>\n",
       "      <td>NaN</td>\n",
       "      <td>0</td>\n",
       "      <td>12</td>\n",
       "      <td>2009</td>\n",
       "      <td>WD</td>\n",
       "      <td>Normal</td>\n",
       "      <td>135000</td>\n",
       "    </tr>\n",
       "    <tr>\n",
       "      <th>975</th>\n",
       "      <td>1295</td>\n",
       "      <td>20</td>\n",
       "      <td>RL</td>\n",
       "      <td>60.0</td>\n",
       "      <td>8172</td>\n",
       "      <td>Pave</td>\n",
       "      <td>NaN</td>\n",
       "      <td>Reg</td>\n",
       "      <td>Lvl</td>\n",
       "      <td>AllPub</td>\n",
       "      <td>...</td>\n",
       "      <td>0</td>\n",
       "      <td>NaN</td>\n",
       "      <td>NaN</td>\n",
       "      <td>NaN</td>\n",
       "      <td>0</td>\n",
       "      <td>4</td>\n",
       "      <td>2006</td>\n",
       "      <td>WD</td>\n",
       "      <td>Normal</td>\n",
       "      <td>115000</td>\n",
       "    </tr>\n",
       "    <tr>\n",
       "      <th>976</th>\n",
       "      <td>861</td>\n",
       "      <td>50</td>\n",
       "      <td>RL</td>\n",
       "      <td>55.0</td>\n",
       "      <td>7642</td>\n",
       "      <td>Pave</td>\n",
       "      <td>NaN</td>\n",
       "      <td>Reg</td>\n",
       "      <td>Lvl</td>\n",
       "      <td>AllPub</td>\n",
       "      <td>...</td>\n",
       "      <td>0</td>\n",
       "      <td>NaN</td>\n",
       "      <td>GdPrv</td>\n",
       "      <td>NaN</td>\n",
       "      <td>0</td>\n",
       "      <td>6</td>\n",
       "      <td>2007</td>\n",
       "      <td>WD</td>\n",
       "      <td>Normal</td>\n",
       "      <td>189950</td>\n",
       "    </tr>\n",
       "    <tr>\n",
       "      <th>977</th>\n",
       "      <td>1127</td>\n",
       "      <td>120</td>\n",
       "      <td>RL</td>\n",
       "      <td>53.0</td>\n",
       "      <td>3684</td>\n",
       "      <td>Pave</td>\n",
       "      <td>NaN</td>\n",
       "      <td>Reg</td>\n",
       "      <td>Lvl</td>\n",
       "      <td>AllPub</td>\n",
       "      <td>...</td>\n",
       "      <td>0</td>\n",
       "      <td>NaN</td>\n",
       "      <td>NaN</td>\n",
       "      <td>NaN</td>\n",
       "      <td>0</td>\n",
       "      <td>6</td>\n",
       "      <td>2009</td>\n",
       "      <td>WD</td>\n",
       "      <td>Normal</td>\n",
       "      <td>174000</td>\n",
       "    </tr>\n",
       "  </tbody>\n",
       "</table>\n",
       "<p>5 rows × 81 columns</p>\n",
       "</div>"
      ],
      "text/plain": [
       "       Id  MSSubClass MSZoning  LotFrontage  LotArea Street Alley LotShape  \\\n",
       "973  1096          20       RL         78.0     9317   Pave   NaN      IR1   \n",
       "974  1131          50       RL         65.0     7804   Pave   NaN      Reg   \n",
       "975  1295          20       RL         60.0     8172   Pave   NaN      Reg   \n",
       "976   861          50       RL         55.0     7642   Pave   NaN      Reg   \n",
       "977  1127         120       RL         53.0     3684   Pave   NaN      Reg   \n",
       "\n",
       "    LandContour Utilities  ... PoolArea PoolQC  Fence MiscFeature MiscVal  \\\n",
       "973         Lvl    AllPub  ...        0    NaN    NaN         NaN       0   \n",
       "974         Lvl    AllPub  ...        0    NaN  MnPrv         NaN       0   \n",
       "975         Lvl    AllPub  ...        0    NaN    NaN         NaN       0   \n",
       "976         Lvl    AllPub  ...        0    NaN  GdPrv         NaN       0   \n",
       "977         Lvl    AllPub  ...        0    NaN    NaN         NaN       0   \n",
       "\n",
       "    MoSold YrSold  SaleType  SaleCondition  SalePrice  \n",
       "973      3   2007        WD         Normal     176432  \n",
       "974     12   2009        WD         Normal     135000  \n",
       "975      4   2006        WD         Normal     115000  \n",
       "976      6   2007        WD         Normal     189950  \n",
       "977      6   2009        WD         Normal     174000  \n",
       "\n",
       "[5 rows x 81 columns]"
      ]
     },
     "execution_count": 11,
     "metadata": {},
     "output_type": "execute_result"
    }
   ],
   "source": [
    "train_df = train_df.reset_index(drop=True)\n",
    "train_df.tail()"
   ]
  },
  {
   "cell_type": "code",
   "execution_count": 12,
   "id": "efc30058",
   "metadata": {},
   "outputs": [],
   "source": [
    "#df_tmp = df[useful_features+[label_col]]\n",
    "#df_tmp[df_tmp.duplicated(keep=False)]\n",
    "#df_tmp = df[useful_features+[label_col]]\n",
    "#df_tmp[df_tmp[useful_features].duplicated(keep=False)]\n",
    "#df_tmp2 = df_tmp[df_tmp[useful_features].duplicated(keep=False)]\n",
    "#df_tmp2[(df_tmp2['Foundation'] == 'PConc') & (df_tmp2['KitchenQual'] == 'Gd') & (df_tmp2['TotRmsAbvGrd'] == 6)]"
   ]
  },
  {
   "cell_type": "markdown",
   "id": "2f3fa103",
   "metadata": {},
   "source": [
    "- Scaling continuous features"
   ]
  },
  {
   "cell_type": "code",
   "execution_count": 13,
   "id": "ac6f94f0",
   "metadata": {},
   "outputs": [],
   "source": [
    "#continuous_columns = train_df[useful_features].select_dtypes(include='number').columns\n",
    "continuous_columns = ['TotRmsAbvGrd', 'WoodDeckSF', 'YrSold', '1stFlrSF']"
   ]
  },
  {
   "cell_type": "code",
   "execution_count": 14,
   "id": "f438af55",
   "metadata": {},
   "outputs": [],
   "source": [
    "# fit on the train dataframe\n",
    "scaler = StandardScaler()\n",
    "scaler.fit(train_df[continuous_columns])\n",
    "\n",
    "# transform on the train dataset \n",
    "scaled_train_columns = scaler.transform(train_df[continuous_columns])\n",
    "scaled_train_df = pd.DataFrame(data=scaled_train_columns, columns=continuous_columns)"
   ]
  },
  {
   "cell_type": "markdown",
   "id": "2ee72d21",
   "metadata": {},
   "source": [
    "- Encoding categorical variables"
   ]
  },
  {
   "cell_type": "code",
   "execution_count": 15,
   "id": "85e1b681",
   "metadata": {},
   "outputs": [],
   "source": [
    "#categorical_columns = train_df[useful_features].select_dtypes(include='object').columns\n",
    "categorical_columns = ['Foundation', 'KitchenQual']"
   ]
  },
  {
   "cell_type": "code",
   "execution_count": 16,
   "id": "a0e6167b",
   "metadata": {},
   "outputs": [],
   "source": [
    "# using OneHotEncoder\n",
    "encoder = OneHotEncoder()\n",
    "\n",
    "# fit on the train dataset\n",
    "encoder.fit(train_df[categorical_columns])\n",
    "\n",
    "# transform on the train dataset \n",
    "encoded_train_columns = encoder.transform(train_df[categorical_columns])\n",
    "encoded_train_df = pd.DataFrame(data=encoded_train_columns.toarray(), columns=encoder.get_feature_names_out(categorical_columns))"
   ]
  },
  {
   "cell_type": "code",
   "execution_count": 17,
   "id": "9bb0c269",
   "metadata": {},
   "outputs": [],
   "source": [
    "X_train = pd.concat([scaled_train_df, encoded_train_df], axis=1)\n",
    "y_train = train_df[label_col]"
   ]
  },
  {
   "cell_type": "markdown",
   "id": "0e8c4d00",
   "metadata": {},
   "source": [
    "### 3. Model training\n",
    "Using Linear Regression"
   ]
  },
  {
   "cell_type": "code",
   "execution_count": 18,
   "id": "158f7146",
   "metadata": {},
   "outputs": [],
   "source": [
    "model = LinearRegression()"
   ]
  },
  {
   "cell_type": "code",
   "execution_count": 19,
   "id": "1de7b7dc",
   "metadata": {},
   "outputs": [
    {
     "data": {
      "text/html": [
       "<style>#sk-container-id-1 {color: black;background-color: white;}#sk-container-id-1 pre{padding: 0;}#sk-container-id-1 div.sk-toggleable {background-color: white;}#sk-container-id-1 label.sk-toggleable__label {cursor: pointer;display: block;width: 100%;margin-bottom: 0;padding: 0.3em;box-sizing: border-box;text-align: center;}#sk-container-id-1 label.sk-toggleable__label-arrow:before {content: \"▸\";float: left;margin-right: 0.25em;color: #696969;}#sk-container-id-1 label.sk-toggleable__label-arrow:hover:before {color: black;}#sk-container-id-1 div.sk-estimator:hover label.sk-toggleable__label-arrow:before {color: black;}#sk-container-id-1 div.sk-toggleable__content {max-height: 0;max-width: 0;overflow: hidden;text-align: left;background-color: #f0f8ff;}#sk-container-id-1 div.sk-toggleable__content pre {margin: 0.2em;color: black;border-radius: 0.25em;background-color: #f0f8ff;}#sk-container-id-1 input.sk-toggleable__control:checked~div.sk-toggleable__content {max-height: 200px;max-width: 100%;overflow: auto;}#sk-container-id-1 input.sk-toggleable__control:checked~label.sk-toggleable__label-arrow:before {content: \"▾\";}#sk-container-id-1 div.sk-estimator input.sk-toggleable__control:checked~label.sk-toggleable__label {background-color: #d4ebff;}#sk-container-id-1 div.sk-label input.sk-toggleable__control:checked~label.sk-toggleable__label {background-color: #d4ebff;}#sk-container-id-1 input.sk-hidden--visually {border: 0;clip: rect(1px 1px 1px 1px);clip: rect(1px, 1px, 1px, 1px);height: 1px;margin: -1px;overflow: hidden;padding: 0;position: absolute;width: 1px;}#sk-container-id-1 div.sk-estimator {font-family: monospace;background-color: #f0f8ff;border: 1px dotted black;border-radius: 0.25em;box-sizing: border-box;margin-bottom: 0.5em;}#sk-container-id-1 div.sk-estimator:hover {background-color: #d4ebff;}#sk-container-id-1 div.sk-parallel-item::after {content: \"\";width: 100%;border-bottom: 1px solid gray;flex-grow: 1;}#sk-container-id-1 div.sk-label:hover label.sk-toggleable__label {background-color: #d4ebff;}#sk-container-id-1 div.sk-serial::before {content: \"\";position: absolute;border-left: 1px solid gray;box-sizing: border-box;top: 0;bottom: 0;left: 50%;z-index: 0;}#sk-container-id-1 div.sk-serial {display: flex;flex-direction: column;align-items: center;background-color: white;padding-right: 0.2em;padding-left: 0.2em;position: relative;}#sk-container-id-1 div.sk-item {position: relative;z-index: 1;}#sk-container-id-1 div.sk-parallel {display: flex;align-items: stretch;justify-content: center;background-color: white;position: relative;}#sk-container-id-1 div.sk-item::before, #sk-container-id-1 div.sk-parallel-item::before {content: \"\";position: absolute;border-left: 1px solid gray;box-sizing: border-box;top: 0;bottom: 0;left: 50%;z-index: -1;}#sk-container-id-1 div.sk-parallel-item {display: flex;flex-direction: column;z-index: 1;position: relative;background-color: white;}#sk-container-id-1 div.sk-parallel-item:first-child::after {align-self: flex-end;width: 50%;}#sk-container-id-1 div.sk-parallel-item:last-child::after {align-self: flex-start;width: 50%;}#sk-container-id-1 div.sk-parallel-item:only-child::after {width: 0;}#sk-container-id-1 div.sk-dashed-wrapped {border: 1px dashed gray;margin: 0 0.4em 0.5em 0.4em;box-sizing: border-box;padding-bottom: 0.4em;background-color: white;}#sk-container-id-1 div.sk-label label {font-family: monospace;font-weight: bold;display: inline-block;line-height: 1.2em;}#sk-container-id-1 div.sk-label-container {text-align: center;}#sk-container-id-1 div.sk-container {/* jupyter's `normalize.less` sets `[hidden] { display: none; }` but bootstrap.min.css set `[hidden] { display: none !important; }` so we also need the `!important` here to be able to override the default hidden behavior on the sphinx rendered scikit-learn.org. See: https://github.com/scikit-learn/scikit-learn/issues/21755 */display: inline-block !important;position: relative;}#sk-container-id-1 div.sk-text-repr-fallback {display: none;}</style><div id=\"sk-container-id-1\" class=\"sk-top-container\"><div class=\"sk-text-repr-fallback\"><pre>LinearRegression()</pre><b>In a Jupyter environment, please rerun this cell to show the HTML representation or trust the notebook. <br />On GitHub, the HTML representation is unable to render, please try loading this page with nbviewer.org.</b></div><div class=\"sk-container\" hidden><div class=\"sk-item\"><div class=\"sk-estimator sk-toggleable\"><input class=\"sk-toggleable__control sk-hidden--visually\" id=\"sk-estimator-id-1\" type=\"checkbox\" checked><label for=\"sk-estimator-id-1\" class=\"sk-toggleable__label sk-toggleable__label-arrow\">LinearRegression</label><div class=\"sk-toggleable__content\"><pre>LinearRegression()</pre></div></div></div></div></div>"
      ],
      "text/plain": [
       "LinearRegression()"
      ]
     },
     "execution_count": 19,
     "metadata": {},
     "output_type": "execute_result"
    }
   ],
   "source": [
    "model.fit(X_train, y_train)"
   ]
  },
  {
   "cell_type": "markdown",
   "id": "43c25d19",
   "metadata": {},
   "source": [
    "<h1>Model Building: <span style=\"color:#6666CC\">Model Evaluation</span></h1>\n",
    "\n",
    "### 1. Preprocessing and feature engineering of the test set"
   ]
  },
  {
   "cell_type": "code",
   "execution_count": 20,
   "id": "16f9e983",
   "metadata": {},
   "outputs": [],
   "source": [
    "test_df[useful_features].duplicated(keep='first').sum()\n",
    "test_df = test_df.reset_index(drop=True)"
   ]
  },
  {
   "cell_type": "markdown",
   "id": "be9a5b57",
   "metadata": {},
   "source": [
    "#### Scaling continuous features"
   ]
  },
  {
   "cell_type": "code",
   "execution_count": 21,
   "id": "7a46cd40",
   "metadata": {},
   "outputs": [],
   "source": [
    "# transform on the test dataset \n",
    "scaled_test_columns = scaler.transform(test_df[continuous_columns])\n",
    "scaled_test_df = pd.DataFrame(data=scaled_test_columns, columns=continuous_columns)"
   ]
  },
  {
   "cell_type": "markdown",
   "id": "26c3e755",
   "metadata": {},
   "source": [
    "####  Encoding categorical variables"
   ]
  },
  {
   "cell_type": "code",
   "execution_count": 22,
   "id": "7bbfd688",
   "metadata": {},
   "outputs": [],
   "source": [
    "# transform on the test dataset \n",
    "encoded_test_columns = encoder.transform(test_df[categorical_columns])\n",
    "encoded_test_df = pd.DataFrame(data=encoded_test_columns.toarray(), columns=encoder.get_feature_names_out(categorical_columns))"
   ]
  },
  {
   "cell_type": "code",
   "execution_count": 23,
   "id": "3edb19fa",
   "metadata": {},
   "outputs": [],
   "source": [
    "X_test = pd.concat([scaled_test_df, encoded_test_df], axis=1)\n",
    "y_test = test_df[label_col]"
   ]
  },
  {
   "cell_type": "markdown",
   "id": "ae38391d",
   "metadata": {},
   "source": [
    "### 2. Model predictions on the test set "
   ]
  },
  {
   "cell_type": "code",
   "execution_count": 24,
   "id": "3b20c5bb",
   "metadata": {},
   "outputs": [],
   "source": [
    "y_pred = model.predict(X_test)"
   ]
  },
  {
   "cell_type": "code",
   "execution_count": 25,
   "id": "db4398ee",
   "metadata": {},
   "outputs": [],
   "source": [
    "y_pred[y_pred < 0] = 0"
   ]
  },
  {
   "cell_type": "markdown",
   "id": "88026f3b",
   "metadata": {},
   "source": [
    "### 3. Model evaluation"
   ]
  },
  {
   "cell_type": "code",
   "execution_count": 26,
   "id": "166bedd9",
   "metadata": {},
   "outputs": [],
   "source": [
    "def compute_rmsle(y_test: np.ndarray, y_pred: np.ndarray, precision: int = 2) -> float:\n",
    "    rmsle = np.sqrt(mean_squared_log_error(y_test, y_pred))\n",
    "    return round(rmsle, precision)"
   ]
  },
  {
   "cell_type": "code",
   "execution_count": 27,
   "id": "00573ca2",
   "metadata": {},
   "outputs": [
    {
     "data": {
      "text/plain": [
       "0.22"
      ]
     },
     "execution_count": 27,
     "metadata": {},
     "output_type": "execute_result"
    }
   ],
   "source": [
    "compute_rmsle(y_test, y_pred)"
   ]
  },
  {
   "cell_type": "markdown",
   "id": "90e61f0c",
   "metadata": {},
   "source": [
    "<h1 style=\"color:#6666CC\">Model inference</h1>"
   ]
  },
  {
   "cell_type": "markdown",
   "id": "eae24570",
   "metadata": {},
   "source": [
    "### 1. Reading data from a given file (test.csv file in your case)"
   ]
  },
  {
   "cell_type": "code",
   "execution_count": 28,
   "id": "c886cf11",
   "metadata": {},
   "outputs": [],
   "source": [
    "test_data = pd.read_csv('../data/test.csv')"
   ]
  },
  {
   "cell_type": "markdown",
   "id": "70616ed7",
   "metadata": {},
   "source": [
    "### 2. Preprocessing and feature engineering of this data"
   ]
  },
  {
   "cell_type": "code",
   "execution_count": 29,
   "id": "88884e2a",
   "metadata": {},
   "outputs": [
    {
     "name": "stdout",
     "output_type": "stream",
     "text": [
      "<class 'pandas.core.frame.DataFrame'>\n",
      "RangeIndex: 1459 entries, 0 to 1458\n",
      "Data columns (total 6 columns):\n",
      " #   Column        Non-Null Count  Dtype \n",
      "---  ------        --------------  ----- \n",
      " 0   Foundation    1459 non-null   object\n",
      " 1   KitchenQual   1458 non-null   object\n",
      " 2   TotRmsAbvGrd  1459 non-null   int64 \n",
      " 3   WoodDeckSF    1459 non-null   int64 \n",
      " 4   YrSold        1459 non-null   int64 \n",
      " 5   1stFlrSF      1459 non-null   int64 \n",
      "dtypes: int64(4), object(2)\n",
      "memory usage: 68.5+ KB\n"
     ]
    }
   ],
   "source": [
    "test_data = test_data[useful_features]\n",
    "test_data.info()"
   ]
  },
  {
   "cell_type": "code",
   "execution_count": 30,
   "id": "f6d7ea75",
   "metadata": {},
   "outputs": [],
   "source": [
    "# Replace missing values in categorical columns with mode\n",
    "for col in test_data[categorical_columns]:\n",
    "    test_data[col] = test_data[col].fillna(test_data[col].mode().iloc[0])\n",
    "\n",
    "# Replace missing values in continuous columns with mean\n",
    "for col in test_data[continuous_columns]:\n",
    "    test_data[col] = test_data[col].fillna(test_data[col].mean())"
   ]
  },
  {
   "cell_type": "code",
   "execution_count": 31,
   "id": "d8a66c15",
   "metadata": {},
   "outputs": [],
   "source": [
    "test_data = test_data.reset_index(drop=True)\n",
    "\n",
    "#scaling\n",
    "scaled_test_data_columns = scaler.transform(test_data[continuous_columns])\n",
    "scaled_test_data = pd.DataFrame(data=scaled_test_data_columns, columns=continuous_columns)\n",
    "#encoding\n",
    "encoded_test_data_columns = encoder.transform(test_data[categorical_columns])\n",
    "encoded_test_data = pd.DataFrame(data=encoded_test_data_columns.toarray(), columns=encoder.get_feature_names_out(categorical_columns))\n",
    "\n",
    "test_dataset = pd.concat([scaled_test_data, encoded_test_data], axis=1)"
   ]
  },
  {
   "cell_type": "markdown",
   "id": "1037b870",
   "metadata": {},
   "source": [
    "### 3. Predicting the house prices of this data"
   ]
  },
  {
   "cell_type": "code",
   "execution_count": 36,
   "id": "3faf5593",
   "metadata": {},
   "outputs": [],
   "source": [
    "predictions = model.predict(test_dataset)"
   ]
  },
  {
   "cell_type": "markdown",
   "id": "ac7821fd",
   "metadata": {},
   "source": [
    "object persistance: encoder, scaler and the model \n",
    "all the objects used in transformation have to be stored locally\n",
    "model directory en github! "
   ]
  },
  {
   "cell_type": "code",
   "execution_count": null,
   "id": "41839a07",
   "metadata": {},
   "outputs": [],
   "source": [
    "# archivo .py \n",
    "# dentro de carpeta \n",
    "\n",
    "def build_model(dataframe):\n",
    "    #first categorial features \n",
    "    # definirlas a mano!! porque puede haber columnas numéricas que son categorical\n",
    "    df_categorical_features = \n",
    "    pass \n",
    "\n",
    "\n",
    "# activar siempre el environment!!\n"
   ]
  },
  {
   "cell_type": "markdown",
   "id": "3b28a377",
   "metadata": {},
   "source": [
    "folder notebooks = driver.ipynb wilflow pipiline-extraction modeling\n",
    "\n",
    "\n"
   ]
  },
  {
   "cell_type": "code",
   "execution_count": null,
   "id": "3162bdae",
   "metadata": {},
   "outputs": [],
   "source": [
    "import sys\n",
    "sys.path\n",
    "\n",
    "# the path of python, so it wont find files that are one step before "
   ]
  },
  {
   "cell_type": "code",
   "execution_count": null,
   "id": "6eed2e64",
   "metadata": {},
   "outputs": [],
   "source": [
    "sys.path.append('..')"
   ]
  },
  {
   "cell_type": "code",
   "execution_count": null,
   "id": "06737a28",
   "metadata": {},
   "outputs": [],
   "source": [
    "sys.path"
   ]
  },
  {
   "cell_type": "markdown",
   "id": "1f8d8dcc",
   "metadata": {},
   "source": [
    "cuanod hay un error en la funcion, para no tener que restart el kernel:"
   ]
  },
  {
   "cell_type": "code",
   "execution_count": null,
   "id": "b2daf8bb",
   "metadata": {},
   "outputs": [],
   "source": [
    "%load_ext autoreload\n",
    "%autoreload 2\n",
    "# mejorar con el codigo de teams "
   ]
  }
 ],
 "metadata": {
  "kernelspec": {
   "display_name": "Python (ml)",
   "language": "python",
   "name": "ml"
  },
  "language_info": {
   "codemirror_mode": {
    "name": "ipython",
    "version": 3
   },
   "file_extension": ".py",
   "mimetype": "text/x-python",
   "name": "python",
   "nbconvert_exporter": "python",
   "pygments_lexer": "ipython3",
   "version": "3.9.16"
  }
 },
 "nbformat": 4,
 "nbformat_minor": 5
}
