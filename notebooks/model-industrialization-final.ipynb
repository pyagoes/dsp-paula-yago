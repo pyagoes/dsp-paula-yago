{
 "cells": [
  {
   "cell_type": "code",
   "execution_count": 1,
   "id": "35431805",
   "metadata": {
    "ExecuteTime": {
     "end_time": "2023-05-05T22:43:51.808096Z",
     "start_time": "2023-05-05T22:43:51.789665Z"
    },
    "scrolled": true
   },
   "outputs": [
    {
     "data": {
      "text/plain": [
       "['/Users/paulayagoesparza/Documents/GitHub/dsp-paula-yago/notebooks',\n",
       " '/Users/paulayagoesparza/anaconda3/envs/ml/lib/python39.zip',\n",
       " '/Users/paulayagoesparza/anaconda3/envs/ml/lib/python3.9',\n",
       " '/Users/paulayagoesparza/anaconda3/envs/ml/lib/python3.9/lib-dynload',\n",
       " '',\n",
       " '/Users/paulayagoesparza/anaconda3/envs/ml/lib/python3.9/site-packages',\n",
       " '..']"
      ]
     },
     "execution_count": 1,
     "metadata": {},
     "output_type": "execute_result"
    }
   ],
   "source": [
    "import sys\n",
    "sys.path.append('..')\n",
    "sys.path"
   ]
  },
  {
   "cell_type": "markdown",
   "id": "68ad4be4",
   "metadata": {},
   "source": [
    "<h1 style=\"color:#6666CC\">Model Building</h1>"
   ]
  },
  {
   "cell_type": "code",
   "execution_count": 2,
   "id": "0a90e247",
   "metadata": {
    "scrolled": false
   },
   "outputs": [
    {
     "name": "stdout",
     "output_type": "stream",
     "text": [
      "{'mse': 2102119719.0633473, 'rmse': 45848.87914729593, 'mae': 29319.59222583034, 'r2': 0.7136619455615532, 'rmsle': 0.22}\n"
     ]
    }
   ],
   "source": [
    "import pandas as pd\n",
    "from house_prices.train import build_model\n",
    "\n",
    "training_data_df = pd.read_csv('../data/train.csv')\n",
    "model_performance_dict = build_model(training_data_df)\n",
    "print(model_performance_dict)"
   ]
  },
  {
   "cell_type": "markdown",
   "id": "12c350cb",
   "metadata": {},
   "source": [
    "<h1 style=\"color:#6666CC\">Model Inference</h1>"
   ]
  },
  {
   "cell_type": "code",
   "execution_count": 3,
   "id": "064f02b2",
   "metadata": {},
   "outputs": [
    {
     "name": "stderr",
     "output_type": "stream",
     "text": [
      "/Users/paulayagoesparza/Documents/GitHub/dsp-paula-yago/notebooks/../house_prices/preprocess.py:25: SettingWithCopyWarning: \n",
      "A value is trying to be set on a copy of a slice from a DataFrame.\n",
      "Try using .loc[row_indexer,col_indexer] = value instead\n",
      "\n",
      "See the caveats in the documentation: https://pandas.pydata.org/pandas-docs/stable/user_guide/indexing.html#returning-a-view-versus-a-copy\n",
      "  data[categorical_columns] = data[categorical_columns].fillna(\n",
      "/Users/paulayagoesparza/Documents/GitHub/dsp-paula-yago/notebooks/../house_prices/preprocess.py:28: SettingWithCopyWarning: \n",
      "A value is trying to be set on a copy of a slice from a DataFrame.\n",
      "Try using .loc[row_indexer,col_indexer] = value instead\n",
      "\n",
      "See the caveats in the documentation: https://pandas.pydata.org/pandas-docs/stable/user_guide/indexing.html#returning-a-view-versus-a-copy\n",
      "  data[continuous_columns] = data[continuous_columns].fillna(\n"
     ]
    },
    {
     "data": {
      "text/plain": [
       "array([120746.99713498, 206772.09669322, 165393.91346652, ...,\n",
       "       181570.97694204, 158578.5345769 , 204024.96264478])"
      ]
     },
     "execution_count": 3,
     "metadata": {},
     "output_type": "execute_result"
    }
   ],
   "source": [
    "import pandas as pd\n",
    "from house_prices.inference import make_predictions\n",
    "\n",
    "user_data_df = pd.read_csv('../data/test.csv')\n",
    "predictions = make_predictions(user_data_df)\n",
    "predictions"
   ]
  },
  {
   "cell_type": "code",
   "execution_count": null,
   "id": "e8eb3700",
   "metadata": {},
   "outputs": [],
   "source": []
  }
 ],
 "metadata": {
  "kernelspec": {
   "display_name": "Python (ml)",
   "language": "python",
   "name": "ml"
  },
  "language_info": {
   "codemirror_mode": {
    "name": "ipython",
    "version": 3
   },
   "file_extension": ".py",
   "mimetype": "text/x-python",
   "name": "python",
   "nbconvert_exporter": "python",
   "pygments_lexer": "ipython3",
   "version": "3.9.16"
  }
 },
 "nbformat": 4,
 "nbformat_minor": 5
}
