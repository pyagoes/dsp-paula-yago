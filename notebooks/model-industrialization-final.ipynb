{
 "cells": [
  {
   "cell_type": "code",
   "execution_count": 1,
   "id": "35431805",
   "metadata": {
    "ExecuteTime": {
     "end_time": "2023-05-05T22:43:51.808096Z",
     "start_time": "2023-05-05T22:43:51.789665Z"
    }
   },
   "outputs": [
    {
     "data": {
      "text/plain": [
       "['/Users/paulayagoesparza/Documents/GitHub/dsp-paula-yago/notebooks',\n",
       " '/Users/paulayagoesparza/anaconda3/envs/ml/lib/python39.zip',\n",
       " '/Users/paulayagoesparza/anaconda3/envs/ml/lib/python3.9',\n",
       " '/Users/paulayagoesparza/anaconda3/envs/ml/lib/python3.9/lib-dynload',\n",
       " '',\n",
       " '/Users/paulayagoesparza/anaconda3/envs/ml/lib/python3.9/site-packages',\n",
       " '..']"
      ]
     },
     "execution_count": 1,
     "metadata": {},
     "output_type": "execute_result"
    }
   ],
   "source": [
    "import sys\n",
    "sys.path.append('..')\n",
    "sys.path"
   ]
  },
  {
   "cell_type": "code",
   "execution_count": 2,
   "id": "0a212f24",
   "metadata": {
    "ExecuteTime": {
     "end_time": "2023-05-05T22:43:51.813159Z",
     "start_time": "2023-05-05T22:43:51.807823Z"
    }
   },
   "outputs": [],
   "source": [
    "label_col = 'SalePrice'\n",
    "useful_features = ['Foundation', 'KitchenQual', 'TotRmsAbvGrd', 'WoodDeckSF', 'YrSold', '1stFlrSF']\n",
    "continuous_columns = ['TotRmsAbvGrd', 'WoodDeckSF', 'YrSold', '1stFlrSF']\n",
    "categorical_columns = ['Foundation', 'KitchenQual']\n",
    "models_folder = '../models'"
   ]
  },
  {
   "cell_type": "markdown",
   "id": "68ad4be4",
   "metadata": {},
   "source": [
    "<h1 style=\"color:#6666CC\">Model Building</h1>"
   ]
  },
  {
   "cell_type": "code",
   "execution_count": 3,
   "id": "9f076d7d",
   "metadata": {
    "ExecuteTime": {
     "end_time": "2023-05-05T22:43:57.666328Z",
     "start_time": "2023-05-05T22:43:54.717280Z"
    }
   },
   "outputs": [
    {
     "name": "stdout",
     "output_type": "stream",
     "text": [
      "{'mse': 2102005467.6316886, 'rmse': 45847.633173716706, 'mae': 29322.53311589293, 'r2': 0.7136775082016642, 'rmsle': 0.22}\n"
     ]
    }
   ],
   "source": [
    "from house_prices.train import build_model\n",
    "from house_prices.preprocess import reading_csv, splitting_df, useful_df, preprocessing, fit_scaler_encoder, transform_scaler_encoder\n",
    "\n",
    "train_csv = reading_csv('../data/train.csv')\n",
    "train_df, test_df = splitting_df(train_csv)\n",
    "train_df = useful_df(train_df, useful_features, label_col)\n",
    "test_df = useful_df(test_df, useful_features, label_col)\n",
    "train_df = preprocessing(train_df, categorical_columns, continuous_columns)\n",
    "test_df = preprocessing(test_df, categorical_columns, continuous_columns)\n",
    "\n",
    "X_train = transform_scaler_encoder(train_df, categorical_columns, continuous_columns, models_folder)\n",
    "y_train = train_df[label_col]\n",
    "\n",
    "X_test = transform_scaler_encoder(test_df, categorical_columns, continuous_columns, models_folder)\n",
    "y_test = test_df[label_col]\n",
    "\n",
    "model_performance_dict = build_model(X_train, y_train, X_test, y_test, models_folder)\n",
    "\n",
    "print(model_performance_dict)"
   ]
  },
  {
   "cell_type": "markdown",
   "id": "12c350cb",
   "metadata": {},
   "source": [
    "<h1 style=\"color:#6666CC\">Model Inference</h1>"
   ]
  },
  {
   "cell_type": "code",
   "execution_count": 4,
   "id": "5b184000",
   "metadata": {
    "ExecuteTime": {
     "end_time": "2023-05-05T22:43:58.910629Z",
     "start_time": "2023-05-05T22:43:58.842759Z"
    }
   },
   "outputs": [
    {
     "data": {
      "text/plain": [
       "array([120547.89852744, 206552.7998175 , 165279.21985763, ...,\n",
       "       181477.99967176, 158810.53764499, 204258.36547822])"
      ]
     },
     "execution_count": 4,
     "metadata": {},
     "output_type": "execute_result"
    }
   ],
   "source": [
    "from house_prices.inference import make_predictions\n",
    "\n",
    "house_test = reading_csv('../data/test.csv')\n",
    "house_test = preprocessing(house_test, categorical_columns, continuous_columns)\n",
    "user_data_df = transform_scaler_encoder(house_test, categorical_columns, continuous_columns, models_folder)\n",
    "predictions = make_predictions(user_data_df, models_folder)\n",
    "predictions"
   ]
  },
  {
   "cell_type": "code",
   "execution_count": null,
   "id": "e8eb3700",
   "metadata": {},
   "outputs": [],
   "source": []
  }
 ],
 "metadata": {
  "kernelspec": {
   "display_name": "Python (ml)",
   "language": "python",
   "name": "ml"
  },
  "language_info": {
   "codemirror_mode": {
    "name": "ipython",
    "version": 3
   },
   "file_extension": ".py",
   "mimetype": "text/x-python",
   "name": "python",
   "nbconvert_exporter": "python",
   "pygments_lexer": "ipython3",
   "version": "3.9.16"
  }
 },
 "nbformat": 4,
 "nbformat_minor": 5
}
