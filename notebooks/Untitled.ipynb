{
 "cells": [
  {
   "cell_type": "code",
   "execution_count": 1,
   "id": "9a61d464",
   "metadata": {},
   "outputs": [
    {
     "data": {
      "text/plain": [
       "['/Users/paulayagoesparza/Documents/GitHub/dsp-paula-yago/notebooks',\n",
       " '/Users/paulayagoesparza/anaconda3/envs/ml/lib/python39.zip',\n",
       " '/Users/paulayagoesparza/anaconda3/envs/ml/lib/python3.9',\n",
       " '/Users/paulayagoesparza/anaconda3/envs/ml/lib/python3.9/lib-dynload',\n",
       " '',\n",
       " '/Users/paulayagoesparza/anaconda3/envs/ml/lib/python3.9/site-packages',\n",
       " '..']"
      ]
     },
     "execution_count": 1,
     "metadata": {},
     "output_type": "execute_result"
    }
   ],
   "source": [
    "import sys\n",
    "sys.path.append('..')\n",
    "sys.path"
   ]
  },
  {
   "cell_type": "code",
   "execution_count": 2,
   "id": "3581bc9f",
   "metadata": {},
   "outputs": [],
   "source": [
    "from house_prices.preprocess import reading_csv, splitting_df, useful_df, preprocessing, fit_scaler_encoder, transform_scaler_encoder"
   ]
  },
  {
   "cell_type": "code",
   "execution_count": 3,
   "id": "ae079ee1",
   "metadata": {},
   "outputs": [],
   "source": [
    "import joblib\n",
    "import numpy as np\n",
    "from sklearn.linear_model import LinearRegression\n",
    "from sklearn.metrics import mean_squared_log_error, \\\n",
    "    mean_squared_error, mean_absolute_error, r2_score\n",
    "import os\n",
    "import pandas as pd"
   ]
  },
  {
   "cell_type": "code",
   "execution_count": 4,
   "id": "570ba67f",
   "metadata": {},
   "outputs": [],
   "source": [
    "data = pd.read_csv('../data/train.csv')"
   ]
  },
  {
   "cell_type": "code",
   "execution_count": 5,
   "id": "9520c8eb",
   "metadata": {},
   "outputs": [],
   "source": [
    "# Split data into train and test sets\n",
    "train_df, test_df = splitting_df(data)\n",
    "    \n",
    "    # Define useful features and label column\n",
    "useful_features = ['Foundation', 'KitchenQual', 'TotRmsAbvGrd', 'WoodDeckSF', 'YrSold', '1stFlrSF']\n",
    "label_column = 'SalePrice'"
   ]
  },
  {
   "cell_type": "code",
   "execution_count": 6,
   "id": "8fc2b547",
   "metadata": {},
   "outputs": [],
   "source": [
    "train_df = useful_df(train_df, useful_features, label_column)\n",
    "test_df = useful_df(test_df, useful_features, label_column)"
   ]
  },
  {
   "cell_type": "code",
   "execution_count": 7,
   "id": "b392827a",
   "metadata": {},
   "outputs": [],
   "source": [
    "continuous_columns = ['TotRmsAbvGrd', 'WoodDeckSF', 'YrSold', '1stFlrSF']\n",
    "categorical_columns = ['Foundation', 'KitchenQual']\n",
    "y_train = train_df[label_column]\n",
    "y_test = test_df[label_column]\n",
    "X_train = preprocessing(train_df, categorical_columns, continuous_columns)\n",
    "X_test = preprocessing(test_df, categorical_columns, continuous_columns)"
   ]
  },
  {
   "cell_type": "code",
   "execution_count": 8,
   "id": "a2e8ce34",
   "metadata": {},
   "outputs": [
    {
     "data": {
      "text/plain": [
       "978"
      ]
     },
     "execution_count": 8,
     "metadata": {},
     "output_type": "execute_result"
    }
   ],
   "source": [
    "len(X_train)"
   ]
  },
  {
   "cell_type": "code",
   "execution_count": 9,
   "id": "f9d8955f",
   "metadata": {},
   "outputs": [],
   "source": [
    "scaler, encoder = fit_scaler_encoder(train_df, categorical_columns, continuous_columns)"
   ]
  },
  {
   "cell_type": "code",
   "execution_count": null,
   "id": "6fdd1f90",
   "metadata": {},
   "outputs": [],
   "source": [
    "train_df = transform_scaler_encoder(train_df, categorical_columns, continuous_columns, os.path.abspath('../models'))\n",
    "test_df = transform_scaler_encoder(test_df, categorical_columns, continuous_columns, os.path.abspath('../models'))"
   ]
  },
  {
   "cell_type": "code",
   "execution_count": null,
   "id": "bfd8711a",
   "metadata": {},
   "outputs": [],
   "source": [
    "model = LinearRegression()"
   ]
  },
  {
   "cell_type": "code",
   "execution_count": null,
   "id": "28b4d780",
   "metadata": {},
   "outputs": [],
   "source": [
    "train_df"
   ]
  },
  {
   "cell_type": "code",
   "execution_count": null,
   "id": "58489bb1",
   "metadata": {},
   "outputs": [],
   "source": []
  },
  {
   "cell_type": "code",
   "execution_count": null,
   "id": "74c3d397",
   "metadata": {},
   "outputs": [],
   "source": []
  },
  {
   "cell_type": "code",
   "execution_count": null,
   "id": "376a85f2",
   "metadata": {},
   "outputs": [],
   "source": []
  },
  {
   "cell_type": "code",
   "execution_count": null,
   "id": "f1f0d129",
   "metadata": {},
   "outputs": [],
   "source": []
  },
  {
   "cell_type": "code",
   "execution_count": null,
   "id": "932d662f",
   "metadata": {},
   "outputs": [],
   "source": []
  },
  {
   "cell_type": "code",
   "execution_count": null,
   "id": "1ff228cb",
   "metadata": {},
   "outputs": [],
   "source": [
    "import pandas as pd\n",
    "from house_prices.train import build_model\n",
    "\n",
    "training_data_df = pd.read_csv('../data/train.csv')\n",
    "model_performance_dict = build_model(training_data_df)\n",
    "print(model_performance_dict)"
   ]
  }
 ],
 "metadata": {
  "kernelspec": {
   "display_name": "Python (ml)",
   "language": "python",
   "name": "ml"
  },
  "language_info": {
   "codemirror_mode": {
    "name": "ipython",
    "version": 3
   },
   "file_extension": ".py",
   "mimetype": "text/x-python",
   "name": "python",
   "nbconvert_exporter": "python",
   "pygments_lexer": "ipython3",
   "version": "3.9.16"
  }
 },
 "nbformat": 4,
 "nbformat_minor": 5
}
