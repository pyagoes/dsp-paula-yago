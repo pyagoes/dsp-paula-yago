{
 "cells": [
  {
   "cell_type": "code",
   "execution_count": 8,
   "id": "d4ebc5a6",
   "metadata": {},
   "outputs": [],
   "source": [
    "import numpy as np\n",
    "\n",
    "my_array = np.random.randint(0,100000,size=(10, 3))"
   ]
  },
  {
   "cell_type": "code",
   "execution_count": 9,
   "id": "67f0576a",
   "metadata": {},
   "outputs": [
    {
     "data": {
      "text/plain": [
       "array([[ 2294, 60310, 73751],\n",
       "       [29779, 76728, 46218],\n",
       "       [33175, 52846, 67305],\n",
       "       [65770, 91414, 58275],\n",
       "       [21474, 77507, 96421],\n",
       "       [86335, 30422, 66071],\n",
       "       [25143, 48149,  1186],\n",
       "       [79512, 48132, 27103],\n",
       "       [79733, 73050, 59090],\n",
       "       [43490,  2262, 35748]])"
      ]
     },
     "execution_count": 9,
     "metadata": {},
     "output_type": "execute_result"
    }
   ],
   "source": [
    "my_array"
   ]
  },
  {
   "cell_type": "code",
   "execution_count": null,
   "id": "9b1fa545",
   "metadata": {},
   "outputs": [],
   "source": []
  }
 ],
 "metadata": {
  "kernelspec": {
   "display_name": "Python 3 (ipykernel)",
   "language": "python",
   "name": "python3"
  },
  "language_info": {
   "codemirror_mode": {
    "name": "ipython",
    "version": 3
   },
   "file_extension": ".py",
   "mimetype": "text/x-python",
   "name": "python",
   "nbconvert_exporter": "python",
   "pygments_lexer": "ipython3",
   "version": "3.11.2"
  }
 },
 "nbformat": 4,
 "nbformat_minor": 5
}
